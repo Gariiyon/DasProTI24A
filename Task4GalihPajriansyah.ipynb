{
 "cells": [
  {
   "cell_type": "markdown",
   "id": "5ad4d30f-f702-479d-9656-bc66a80dc6ca",
   "metadata": {},
   "source": [
    "<h1>1. OPERATOR ARITMATIKA</h1>"
   ]
  },
  {
   "cell_type": "code",
   "execution_count": 16,
   "id": "e2886635-87a8-42ad-83be-2d4e8773cb58",
   "metadata": {},
   "outputs": [
    {
     "name": "stdout",
     "output_type": "stream",
     "text": [
      "Apel yang diterima oleh setiap temannya adalah : 3.0 buah\n",
      "Apel Budi yang tersisa sekarang adalah 0 buah\n",
      "budi mendapat 8 apel tambahan\n",
      "Total apel yang dimilikinya sekarang adalah : 8 buah\n"
     ]
    }
   ],
   "source": [
    "apelBudi = 12\n",
    "temanBudi = 4\n",
    "sisaApel = apelBudi % temanBudi\n",
    "\n",
    "print(\"Apel yang diterima oleh setiap temannya adalah :\", apelBudi / temanBudi, \"buah\")\n",
    "print(\"Apel Budi yang tersisa sekarang adalah\",sisaApel,\"buah\")\n",
    "print(\"budi mendapat 8 apel tambahan\")\n",
    "\n",
    "apelTambahan = 8\n",
    "print(\"Total apel yang dimilikinya sekarang adalah :\",sisaApel + apelTambahan , \"buah\")"
   ]
  },
  {
   "cell_type": "markdown",
   "id": "3fa3488e-1b07-406b-8a1f-1d50fc48e6ba",
   "metadata": {},
   "source": [
    "<h1>2. OPERATOR PERBANDINGAN</h1>"
   ]
  },
  {
   "cell_type": "code",
   "execution_count": 21,
   "id": "b729ee5f-aa90-47f2-bcfa-97d680fbe759",
   "metadata": {},
   "outputs": [
    {
     "name": "stdout",
     "output_type": "stream",
     "text": [
      "Apakah Siti lebih tinggi dari Andi : False\n",
      "Apakah Andi lebih tinggi dari Siti : True\n"
     ]
    }
   ],
   "source": [
    "tinggiSiti = 160\n",
    "tinggiAndi = 165\n",
    "\n",
    "print(\"Apakah Siti lebih tinggi dari Andi :\", tinggiSiti >= tinggiAndi)\n",
    "print(\"Apakah Andi lebih tinggi dari Siti :\", tinggiAndi >= tinggiSiti)"
   ]
  },
  {
   "cell_type": "markdown",
   "id": "94823112-166d-47f2-a2f0-723fe5b81e68",
   "metadata": {},
   "source": [
    "<h1>3. OPERATOR LOGIKA</h1>"
   ]
  },
  {
   "cell_type": "code",
   "execution_count": 24,
   "id": "ecd2212d-2eae-46ff-a7c7-765a3e7518ad",
   "metadata": {},
   "outputs": [
    {
     "name": "stdin",
     "output_type": "stream",
     "text": [
      "Apakah cuaca diluar cerah ? y/n y\n",
      "Apakah Budi telah menyelesaikan PR-nya ? y/n y\n"
     ]
    },
    {
     "name": "stdout",
     "output_type": "stream",
     "text": [
      "Apakah Budi sudah bisa bermain diluar ? True\n"
     ]
    }
   ],
   "source": [
    "a = \"y\"\n",
    "b = \"y\"\n",
    "\n",
    "c = input(\"Apakah cuaca diluar cerah ? y/n\")\n",
    "d = input(\"Apakah Budi telah menyelesaikan PR-nya ? y/n\")\n",
    "print(\"Apakah Budi sudah bisa bermain diluar ?\", a==c and b==d)"
   ]
  },
  {
   "cell_type": "markdown",
   "id": "a38bb445-de30-4c83-bc5e-75eccad237b7",
   "metadata": {},
   "source": [
    "<h1>4.OPERASI BITWISE</h1>"
   ]
  },
  {
   "cell_type": "code",
   "execution_count": 27,
   "id": "a50cdd0e-56b5-4c6e-8e9f-76baf586d130",
   "metadata": {},
   "outputs": [
    {
     "name": "stdin",
     "output_type": "stream",
     "text": [
      " Isikan bilangan 1 : 6\n",
      " Isikan bilangan 2 : 3\n"
     ]
    },
    {
     "name": "stdout",
     "output_type": "stream",
     "text": [
      "Biner dari  6 : 0b110\n",
      "Biner dari  3 : 0b11\n",
      "0b110\n",
      "0b11\n",
      "-------------------- &\n",
      "0b10\n",
      "Hasil desimalnya adalah : 2\n",
      "Biner dari  6 : 0b110\n",
      "Biner dari  3 : 0b11\n",
      "0b110\n",
      "0b11\n",
      "-------------------- |\n",
      "0b111\n",
      "Hasil desimalnya adalah : 7\n",
      "Biner dari  6 : 0b110\n",
      "Biner dari  3 : 0b11\n",
      "0b110\n",
      "0b11\n",
      "-------------------- ^\n",
      "0b101\n",
      "Hasil desimalnya adalah : 5\n",
      "Biner dari  6 : 0b110\n",
      "Biner dari  3 : 0b11\n"
     ]
    }
   ],
   "source": [
    "bil1 = int(input(\" Isikan bilangan 1 :\"))\n",
    "bil2 = int(input(\" Isikan bilangan 2 :\"))\n",
    "\n",
    "print(\"Biner dari \",bil1, \":\", bin(bil1))\n",
    "print(\"Biner dari \",bil2, \":\", bin(bil2))\n",
    "\n",
    "bitwiseAnd = bil1 & bil2\n",
    "print(bin(bil1))\n",
    "print(bin(bil2))\n",
    "print(\"-------------------- &\")\n",
    "print(bin(bitwiseAnd))\n",
    "print(\"Hasil desimalnya adalah :\", bitwiseAnd)\n",
    "\n",
    "print(\"Biner dari \",bil1, \":\", bin(bil1))\n",
    "print(\"Biner dari \",bil2, \":\", bin(bil2))\n",
    "\n",
    "bitwiseOr = bil1 | bil2\n",
    "print(bin(bil1))\n",
    "print(bin(bil2))\n",
    "print(\"-------------------- |\")\n",
    "print(bin(bitwiseOr))\n",
    "print(\"Hasil desimalnya adalah :\", bitwiseOr)\n",
    "\n",
    "print(\"Biner dari \",bil1, \":\", bin(bil1))\n",
    "print(\"Biner dari \",bil2, \":\", bin(bil2))\n",
    "\n",
    "bitwiseXor = bil1 ^ bil2\n",
    "print(bin(bil1))\n",
    "print(bin(bil2))\n",
    "print(\"-------------------- ^\")\n",
    "print(bin(bitwiseXor))\n",
    "print(\"Hasil desimalnya adalah :\", bitwiseXor)\n",
    "\n",
    "print(\"Biner dari \",bil1, \":\", bin(bil1))\n",
    "print(\"Biner dari \",bil2, \":\", bin(bil2))\n"
   ]
  },
  {
   "cell_type": "markdown",
   "id": "a9fee920-774f-49cd-889b-8e4c65cbaa14",
   "metadata": {},
   "source": [
    "<h1>5.OPERASI PENUGASAN</h1>"
   ]
  },
  {
   "cell_type": "code",
   "execution_count": 2,
   "id": "03c3a441-4454-44a8-a088-181ef9652058",
   "metadata": {},
   "outputs": [
    {
     "name": "stdin",
     "output_type": "stream",
     "text": [
      "Masukan saldo pulsa yang ingin diisi : 50000\n"
     ]
    },
    {
     "name": "stdout",
     "output_type": "stream",
     "text": [
      "Total saldo sekarang adalah : 50000\n",
      "Total saldo pulsa setelah ditambahkan 20.000 adalah : 70000\n",
      "Total saldo setelah dikurangi untuk membeli paket internet 30.000 adalah : 40000\n"
     ]
    }
   ],
   "source": [
    "nilai = int(input(\"Masukan saldo pulsa yang ingin diisi :\"))\n",
    "print(\"Total saldo sekarang adalah :\", nilai)\n",
    "nilai+=20000\n",
    "print(\"Total saldo pulsa setelah ditambahkan 20.000 adalah :\", nilai)\n",
    "nilai-=30000\n",
    "print(\"Total saldo setelah dikurangi untuk membeli paket internet 30.000 adalah :\", nilai)"
   ]
  },
  {
   "cell_type": "markdown",
   "id": "9bf7935e-ef85-4826-8616-2fba3e87a766",
   "metadata": {},
   "source": [
    "<h1>6. OPERATOR KEANGGOTAAN</h1>"
   ]
  },
  {
   "cell_type": "code",
   "execution_count": 7,
   "id": "a481c3e6-d60f-4ed2-ba12-13e43536384f",
   "metadata": {},
   "outputs": [
    {
     "name": "stdin",
     "output_type": "stream",
     "text": [
      "Masukan nama peserta lomba coding! : Andi\n"
     ]
    },
    {
     "name": "stdout",
     "output_type": "stream",
     "text": [
      "True\n",
      "True\n",
      "False\n",
      "True\n"
     ]
    }
   ],
   "source": [
    "nama = input(\"Masukan nama peserta lomba coding! :\")\n",
    "listNama = [\"Andi\", \"Budi\", \"Citra\", \"Dewi\"]\n",
    "print(nama in listNama)\n",
    "print(nama in listNama[0])\n",
    "print(nama not in listNama)\n",
    "print(nama not in listNama[1])"
   ]
  },
  {
   "cell_type": "code",
   "execution_count": 31,
   "id": "23198821-b94d-4b1a-8875-b80c0a073e9b",
   "metadata": {},
   "outputs": [
    {
     "name": "stdin",
     "output_type": "stream",
     "text": [
      "Masukan kata yang ingin dicari! : Phyton\n"
     ]
    },
    {
     "name": "stdout",
     "output_type": "stream",
     "text": [
      "True\n",
      "False\n"
     ]
    }
   ],
   "source": [
    "kata = input(\"Masukan kata yang ingin dicari! :\")\n",
    "kalimat = (\"Saya suka belajar Phyton\")\n",
    "print(kata in kalimat)\n",
    "print(kata not in kalimat)"
   ]
  },
  {
   "cell_type": "markdown",
   "id": "da4c6af9-5ba2-4a42-9095-431e671d588a",
   "metadata": {},
   "source": [
    "<h1>7. OPERATOR IDENTITAS</h1>"
   ]
  },
  {
   "cell_type": "code",
   "execution_count": 49,
   "id": "029fdcee-14ba-4359-86bb-cbde646f7cd1",
   "metadata": {},
   "outputs": [
    {
     "name": "stdout",
     "output_type": "stream",
     "text": [
      "Memori addres dari variabel x adalah : 140703174896696\n",
      "Memori addres dari variabel y adalah : 140703174896696\n",
      "--------------------------------------------------\n",
      "Variabel x dan y merujuk ke objek yang sama dalam memori\n",
      "--------------------------------------------------\n",
      "Kedua list tersebut tidak mengacu ke objek yang sama\n"
     ]
    }
   ],
   "source": [
    "x = 21\n",
    "y = 21\n",
    "\n",
    "\n",
    "print(\"Memori addres dari variabel x adalah :\", id(x))\n",
    "print(\"Memori addres dari variabel y adalah :\", id(y))\n",
    "\n",
    "print(\"--------------------------------------------------\")\n",
    "\n",
    "if x is y:\n",
    "    print(\"Variabel x dan y merujuk ke objek yang sama dalam memori\")\n",
    "else:\n",
    "    print(\"Variabel x dan y tidak merujuk ke objek yang sama dalam memori\")\n",
    "\n",
    "list1 = [11, 12, 13]\n",
    "list2 = [11, 12, 13]\n",
    "\n",
    "print(\"--------------------------------------------------\")\n",
    "\n",
    "if list1 is list2 :\n",
    "    print(\"Kedua list tersebut mengacu ke objek yang sama\")\n",
    "    \n",
    "else:\n",
    "    print(\"Kedua list tersebut tidak mengacu ke objek yang sama\")\n",
    "\n",
    "\n",
    "#Memori addres dari num1 1812842212176\n",
    "#Memori addres dari num2 140736653961944\n",
    "#Memori addres dari num3 140736653961944\n",
    "#Apakah num1 apakah num2 False\n",
    "#Apakah num2 apakah num3 True\n",
    "#Apakah num3 apakah num1 False\n",
    "#pakah num2 bukan num3 False\n"
   ]
  },
  {
   "cell_type": "markdown",
   "id": "ce067033-0620-4fd1-ab1d-bf5b8c9e32b4",
   "metadata": {},
   "source": [
    "<h1>8. OPERASI TERNARY</h1>"
   ]
  },
  {
   "cell_type": "code",
   "execution_count": 58,
   "id": "072d5fb9-ea4b-42f3-a3e1-1facafe60ce5",
   "metadata": {},
   "outputs": [
    {
     "name": "stdin",
     "output_type": "stream",
     "text": [
      "Input angka : 101\n"
     ]
    },
    {
     "name": "stdout",
     "output_type": "stream",
     "text": [
      "------------------\n",
      "Lebih besar dari 100\n"
     ]
    }
   ],
   "source": [
    "angka = int(input(\"Input angka :\"))\n",
    "print(\"------------------\")\n",
    "\n",
    "cek = \"Angka lebih besar dari 100\" if angka > 100 else \"angka tidak lebih besar dari 100\"\n",
    "print(cek)"
   ]
  },
  {
   "cell_type": "code",
   "execution_count": 70,
   "id": "a2ab8b44-13ac-4086-b05d-655ae995f2ae",
   "metadata": {},
   "outputs": [
    {
     "name": "stdin",
     "output_type": "stream",
     "text": [
      "Input nilai ujian : 69\n"
     ]
    },
    {
     "name": "stdout",
     "output_type": "stream",
     "text": [
      "Tidak Lulus\n"
     ]
    }
   ],
   "source": [
    "nilai = int(input(\"Input nilai ujian :\"))\n",
    "nilaiUjian = \"Lulus\" if nilai >= 70 else \"Tidak Lulus\"\n",
    "print(nilaiUjian)"
   ]
  },
  {
   "cell_type": "code",
   "execution_count": null,
   "id": "af37710d-64e5-4263-84b1-21e05d86c841",
   "metadata": {},
   "outputs": [],
   "source": []
  }
 ],
 "metadata": {
  "kernelspec": {
   "display_name": "Python [conda env:base] *",
   "language": "python",
   "name": "conda-base-py"
  },
  "language_info": {
   "codemirror_mode": {
    "name": "ipython",
    "version": 3
   },
   "file_extension": ".py",
   "mimetype": "text/x-python",
   "name": "python",
   "nbconvert_exporter": "python",
   "pygments_lexer": "ipython3",
   "version": "3.12.7"
  }
 },
 "nbformat": 4,
 "nbformat_minor": 5
}
