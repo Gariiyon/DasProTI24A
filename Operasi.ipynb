{
 "cells": [
  {
   "cell_type": "markdown",
   "id": "89f413a2-9a0c-44da-bd3b-f08d539e5356",
   "metadata": {},
   "source": [
    "<hi>OPERATOR ARITMATIKA</h1>"
   ]
  },
  {
   "cell_type": "code",
   "execution_count": 6,
   "id": "9849d320-20c3-477e-b828-f9fd6e9a2a61",
   "metadata": {},
   "outputs": [
    {
     "name": "stdin",
     "output_type": "stream",
     "text": [
      "Isikan nilai X : 12\n",
      "Isikan nilai Y : 8\n"
     ]
    },
    {
     "name": "stdout",
     "output_type": "stream",
     "text": [
      "Penjumlahan  12 + 8 = 20\n",
      "Pengurangan  12 - 8 = 4\n",
      "Pembagian  12 / 8 = 1.5\n",
      "Perkalian  12 * 8 = 96\n",
      "Sisa Bagi  12 % 8 = 4\n",
      "Pangkat  12 ^ 8 = 429981696\n",
      "Pembagian Bulat  12 // 8 = 1\n"
     ]
    }
   ],
   "source": [
    "x = int(input(\"Isikan nilai X :\"))\n",
    "y = int(input(\"Isikan nilai Y :\"))\n",
    "#x = int(x)\n",
    "#y = int(y) \n",
    "\n",
    "hasilTambah = x + y\n",
    "hasilKurang = x - y\n",
    "hasilBagi = x / y\n",
    "hasilKali = x * y\n",
    "hasilModulus = x % y\n",
    "hasilPangkat = x ** y\n",
    "hasilBagiBulat = x // y\n",
    "\n",
    "print(\"Penjumlahan \", x ,\"+\", y,  \"=\", hasilTambah)\n",
    "print(\"Pengurangan \", x, \"-\", y, \"=\", hasilKurang)\n",
    "print(\"Pembagian \", x, \"/\", y, \"=\", hasilBagi)\n",
    "print(\"Perkalian \", x, \"*\", y, \"=\", hasilKali)\n",
    "print(\"Sisa Bagi \", x, \"%\", y, \"=\", hasilModulus)\n",
    "print(\"Pangkat \", x, \"^\", y, \"=\", hasilPangkat)\n",
    "print(\"Pembagian Bulat \", x, \"//\", y, \"=\", hasilBagiBulat)\n",
    "\n"
   ]
  },
  {
   "cell_type": "markdown",
   "id": "3c25b9b7-5e58-405a-9632-415a672d00b5",
   "metadata": {},
   "source": [
    "<h1>OPERASI PENUGASAN(ASSIGNMENT)</h1>"
   ]
  },
  {
   "cell_type": "code",
   "execution_count": 1,
   "id": "a3695d24-d41c-4808-a5cc-4f47aa73eeac",
   "metadata": {},
   "outputs": [
    {
     "name": "stdin",
     "output_type": "stream",
     "text": [
      "Isikan Nilai : 50\n"
     ]
    },
    {
     "name": "stdout",
     "output_type": "stream",
     "text": [
      "Nilai awal dari <nilai> : 50\n",
      "Nilai setelah ditambahkan 3 : 53\n",
      "Nilai setelah dikurangkan 3 : 48\n",
      "Nilai setelah dikalikan 10 : 480\n",
      "Nilai setelah dibagi 2 : 240.0\n"
     ]
    }
   ],
   "source": [
    "nilai = int(input(\"Isikan Nilai :\"))\n",
    "print(\"Nilai awal dari <nilai> :\", nilai)\n",
    "nilai+=3\n",
    "print(\"Nilai setelah ditambahkan 3 :\", nilai)\n",
    "nilai-=5\n",
    "print(\"Nilai setelah dikurangkan 3 :\", nilai)\n",
    "nilai*=10\n",
    "print(\"Nilai setelah dikalikan 10 :\", nilai)\n",
    "nilai/=2\n",
    "print(\"Nilai setelah dibagi 2 :\", nilai)"
   ]
  },
  {
   "cell_type": "code",
   "execution_count": 19,
   "id": "df4dbf92-3b74-4bb8-99e4-d2954f7afef5",
   "metadata": {},
   "outputs": [
    {
     "name": "stdin",
     "output_type": "stream",
     "text": [
      "Isikan Nilai 1 : 5\n",
      "Isikan Nilai 2 : 5\n"
     ]
    },
    {
     "name": "stdout",
     "output_type": "stream",
     "text": [
      "Apakah 5 = 5 ?: True\n",
      "Apakah 5 != 5 ?: False\n",
      "Apakah 5 > 5 ?: False\n",
      "Apakah 5 >= 5 ?: True\n",
      "Apakah 5 < 5 ?: False\n",
      "Apakah 5 <= 5 ?: True\n"
     ]
    }
   ],
   "source": [
    "val1 = int(input('Isikan Nilai 1 :'))\n",
    "val2 = int(input(\"Isikan Nilai 2 :\"))\n",
    "\n",
    "print(\"Apakah\", val1, \"=\", val2, \"?:\", val1==val2)\n",
    "print(\"Apakah\", val1, \"!=\", val2, \"?:\", val1!=val2)\n",
    "print(\"Apakah\", val1, \">\", val2, \"?:\", val1>val2)\n",
    "print(\"Apakah\", val1, \">=\", val2, \"?:\", val1>=val2)\n",
    "print(\"Apakah\", val1, \"<\", val2, \"?:\", val1<val2)\n",
    "print(\"Apakah\", val1, \"<=\", val2, \"?:\", val1<=val2)"
   ]
  },
  {
   "cell_type": "markdown",
   "id": "45bac16e-d88b-4eaa-9723-00788268ab2c",
   "metadata": {},
   "source": [
    "<h1>OPERATOR LOGIKA</h1>"
   ]
  },
  {
   "cell_type": "code",
   "execution_count": 28,
   "id": "c0dd36ac-eb45-424f-ae05-8baba32c40c2",
   "metadata": {},
   "outputs": [
    {
     "name": "stdin",
     "output_type": "stream",
     "text": [
      "Isikan nilai a : 3\n",
      "Isikan nilai b : 4\n",
      "Isikan nilai c : 5\n",
      "Isikan nilai d : 6\n"
     ]
    },
    {
     "name": "stdout",
     "output_type": "stream",
     "text": [
      "Nilai a : 3\n",
      "Nilai b : 4\n",
      "Nilai c : 5\n",
      "Nilai d : 6\n",
      "Apakah a > b dan c < d? False\n",
      "Apakah a > b atau c < d? True\n",
      "Apakah a > b bukan c < d? True\n"
     ]
    }
   ],
   "source": [
    "a = int(input(\"Isikan nilai a :\"))\n",
    "b = int(input(\"Isikan nilai b :\"))\n",
    "c = int(input(\"Isikan nilai c :\"))\n",
    "d = int(input(\"Isikan nilai d :\"))\n",
    "print(\"Nilai a :\", a)\n",
    "print(\"Nilai b :\", b)\n",
    "print(\"Nilai c :\", c)\n",
    "print(\"Nilai d :\", d)\n",
    "\n",
    "print(\"Apakah a > b dan c < d?\", a > b and c < d) #logika and\n",
    "print(\"Apakah a > b atau c < d?\", a > b or c < d) #logika or\n",
    "print(\"Apakah a > b bukan c < d?\", not (a > b and c < d)) #logika not and\n"
   ]
  },
  {
   "cell_type": "markdown",
   "id": "1e7349db-4cf8-47c0-b0ad-3c063417da3e",
   "metadata": {},
   "source": [
    "<h1>OPERATOR IDENTITAS</h1>\n"
   ]
  },
  {
   "cell_type": "code",
   "execution_count": 41,
   "id": "710a6eba-0a0e-4fd0-bed5-bd4bd75d7b90",
   "metadata": {},
   "outputs": [
    {
     "name": "stdout",
     "output_type": "stream",
     "text": [
      "Memori addres dari num1 1812842212176\n",
      "Memori addres dari num2 140736653961944\n",
      "Memori addres dari num3 140736653961944\n",
      "Apakah num1 apakah num2 False\n",
      "Apakah num2 apakah num3 True\n",
      "Apakah num3 apakah num1 False\n",
      "Apakah num2 bukan num3 False\n"
     ]
    }
   ],
   "source": [
    "num1 = '10'\n",
    "num2 = 10\n",
    "num3 = num2\n",
    "\n",
    "print(\"Memori addres dari num1\", id(num1))\n",
    "print(\"Memori addres dari num2\", id(num2))\n",
    "print(\"Memori addres dari num3\", id(num3))\n",
    "\n",
    "print(\"Apakah num1 apakah num2\", num1 is num2)\n",
    "print(\"Apakah num2 apakah num3\", num2 is num3)\n",
    "print(\"Apakah num3 apakah num1\", num1 is num2)\n",
    "print(\"Apakah num2 bukan num3\", num2 is not num3)"
   ]
  },
  {
   "cell_type": "markdown",
   "id": "1d9e0c53-3320-42bb-87fe-f202c69215c9",
   "metadata": {},
   "source": [
    "<h1>OPERATOR KEANGGOTAAN</h1>"
   ]
  },
  {
   "cell_type": "code",
   "execution_count": 49,
   "id": "e487bb31-d6b4-418e-b9ff-7ec25f3ea000",
   "metadata": {},
   "outputs": [
    {
     "name": "stdin",
     "output_type": "stream",
     "text": [
      "Isikan nama yang dicari : Anna\n"
     ]
    },
    {
     "name": "stdout",
     "output_type": "stream",
     "text": [
      "True\n",
      "True\n",
      "False\n",
      "True\n"
     ]
    }
   ],
   "source": [
    "nama = input(\"Isikan nama yang dicari :\")\n",
    "listNama = [\"Anna\", \"Garii\", \"Remu\", \"Mirai\"]\n",
    "print(nama in listNama)\n",
    "print(nama in listNama[0])\n",
    "print(nama not in listNama)\n",
    "print(nama not in listNama[1])"
   ]
  },
  {
   "cell_type": "markdown",
   "id": "caf116bc-2e68-44c1-be6e-097516f5e9e6",
   "metadata": {},
   "source": [
    "\n",
    "<h1>OPERATOR BITWISE</h1>"
   ]
  },
  {
   "cell_type": "code",
   "execution_count": 71,
   "id": "d76d610c-84ad-450a-b1ac-2ded587e9d7c",
   "metadata": {},
   "outputs": [
    {
     "name": "stdin",
     "output_type": "stream",
     "text": [
      " Isikan bilangan 1 : 10\n",
      " Isikan bilangan 2 : 12\n"
     ]
    },
    {
     "name": "stdout",
     "output_type": "stream",
     "text": [
      "Biner dari  10 : 0b1010\n",
      "Biner dari  12 : 0b1100\n",
      "0b1010\n",
      "0b1100\n",
      "-------------------- &\n",
      "0b1000\n",
      "Hasil desimalnya adalah : 8\n",
      "Biner dari  10 : 0b1010\n",
      "Biner dari  12 : 0b1100\n",
      "0b1010\n",
      "0b1100\n",
      "-------------------- |\n",
      "0b1110\n",
      "Hasil desimalnya adalah : 14\n",
      "Biner dari  10 : 0b1010\n",
      "Biner dari  12 : 0b1100\n",
      "0b1010\n",
      "0b1100\n",
      "-------------------- ^\n",
      "0b110\n",
      "Hasil desimalnya adalah : 6\n",
      "Biner dari  10 : 0b1010\n",
      "Biner dari  12 : 0b1100\n",
      "0b1010 digeser ke kiri sebanyak  12 bit\n",
      "Hasilnya adalah  0b1010000000000000\n",
      "Nilai desimalnya adalah 40960\n",
      "0b1010 digeser ke kiri sebanyak  12 bit\n",
      "Hasilnya adalah  0b1010000000000000\n",
      "Nilai desimalnya adalah 40960\n",
      "0b1010\n",
      "0b1100\n",
      "-------------------- <<\n",
      "0b1010000000000000\n",
      "Hasil desimalnya adalah : 40960\n",
      "Biner dari  10 : 0b1010\n",
      "Biner dari  12 : 0b1100\n",
      "0b1010\n",
      "0b1100\n",
      "-------------------- >>\n",
      "0b0\n",
      "Hasil desimalnya adalah : 0\n"
     ]
    }
   ],
   "source": [
    "bil1 = int(input(\" Isikan bilangan 1 :\"))\n",
    "bil2 = int(input(\" Isikan bilangan 2 :\"))\n",
    "\n",
    "print(\"Biner dari \",bil1, \":\", bin(bil1))\n",
    "print(\"Biner dari \",bil2, \":\", bin(bil2))\n",
    "\n",
    "bitwiseAnd = bil1 & bil2\n",
    "print(bin(bil1))\n",
    "print(bin(bil2))\n",
    "print(\"-------------------- &\")\n",
    "print(bin(bitwiseAnd))\n",
    "print(\"Hasil desimalnya adalah :\", bitwiseAnd)\n",
    "\n",
    "print(\"Biner dari \",bil1, \":\", bin(bil1))\n",
    "print(\"Biner dari \",bil2, \":\", bin(bil2))\n",
    "\n",
    "bitwiseOr = bil1 | bil2\n",
    "print(bin(bil1))\n",
    "print(bin(bil2))\n",
    "print(\"-------------------- |\")\n",
    "print(bin(bitwiseOr))\n",
    "print(\"Hasil desimalnya adalah :\", bitwiseOr)\n",
    "\n",
    "print(\"Biner dari \",bil1, \":\", bin(bil1))\n",
    "print(\"Biner dari \",bil2, \":\", bin(bil2))\n",
    "\n",
    "bitwiseXor = bil1 ^ bil2\n",
    "print(bin(bil1))\n",
    "print(bin(bil2))\n",
    "print(\"-------------------- ^\")\n",
    "print(bin(bitwiseXor))\n",
    "print(\"Hasil desimalnya adalah :\", bitwiseXor)\n",
    "\n",
    "print(\"Biner dari \",bil1, \":\", bin(bil1))\n",
    "print(\"Biner dari \",bil2, \":\", bin(bil2))\n",
    "\n",
    "bitwiseSL = bil1 << bil2\n",
    "print(bin(bil1), \"digeser ke kiri sebanyak \", bil2, \"bit\")\n",
    "print(\"Hasilnya adalah \", bin(bitwiseSL))\n",
    "print(\"Nilai desimalnya adalah\", bitwiseSL)\n",
    "\n",
    "bitwiseSR = bil1 << bil2\n",
    "print(bin(bil1), \"digeser ke kiri sebanyak \", bil2, \"bit\")\n",
    "print(\"Hasilnya adalah \", bin(bitwiseSR))\n",
    "print(\"Nilai desimalnya adalah\", bitwiseSR)\n",
    "\n",
    "bitwiseHidari = bil1 << bil2\n",
    "print(bin(bil1))\n",
    "print(bin(bil2))\n",
    "print(\"-------------------- <<\")\n",
    "print(bin(bitwiseHidari))\n",
    "print(\"Hasil desimalnya adalah :\", bitwiseHidari)\n",
    "\n",
    "print(\"Biner dari \",bil1, \":\", bin(bil1))\n",
    "print(\"Biner dari \",bil2, \":\", bin(bil2))\n",
    "\n",
    "bitwiseMigi = bil1 >> bil2\n",
    "print(bin(bil1))\n",
    "print(bin(bil2))\n",
    "print(\"-------------------- >>\")\n",
    "print(bin(bitwiseMigi))\n",
    "print(\"Hasil desimalnya adalah :\", bitwiseMigi)\n",
    "\n"
   ]
  },
  {
   "cell_type": "markdown",
   "id": "53e391e7-426b-4071-8eef-3c4308811faa",
   "metadata": {},
   "source": [
    "<h1>OPERATOR TERNARY</h2> "
   ]
  },
  {
   "cell_type": "code",
   "execution_count": 78,
   "id": "b96d44e6-074e-4909-b5bf-39086434c6df",
   "metadata": {},
   "outputs": [
    {
     "name": "stdin",
     "output_type": "stream",
     "text": [
      "Insert your number 78\n"
     ]
    },
    {
     "name": "stdout",
     "output_type": "stream",
     "text": [
      "Bilangan Genap\n"
     ]
    }
   ],
   "source": [
    "number = int(input(\"Insert your number\"))\n",
    "oddEven = \"Bilangan Genap\" if number % 2==0 else \"Bilangan Ganjil\"\n",
    "print(oddEven)"
   ]
  },
  {
   "cell_type": "code",
   "execution_count": null,
   "id": "f180754f-53f7-4a43-85a5-576e1989d3f6",
   "metadata": {},
   "outputs": [],
   "source": [
    "Seorang Ibu berbelanja Takjil untuk berbuka puasa, yaitu :\n",
    "1. Pisang Goreng - 13.000\n",
    "2. Kolak - 5.000\n",
    "3. Nasi Padang - 2.0000\n",
    "4. Es Buah - 10.000\n",
    "jika ibu berbelanja lebih dari 25.000 maka akan mendapat diskon 5%, hitunglah total belanja ibu"
   ]
  },
  {
   "cell_type": "code",
   "execution_count": null,
   "id": "200b9984-7963-4580-b52f-82c5ce31ea35",
   "metadata": {},
   "outputs": [],
   "source": [
    "pisangGoreng = int(input(\"Pisang Goreng yang di beli :\"))\n",
    "kolak = int(input(\"Kolak yang di beli :\"))\n",
    "nasiPadang = int(input(\"Nasi Padang yang di beli :\"))\n",
    "esBuah = int(input(\"Es Buah yang di beli :\"))\n",
    "\n",
    "pisang *= 13000\n",
    "kolak *= 5000\n",
    "nasiPadang *= 20000\n",
    "esBuah *= 10000\n",
    "\n",
    "total = pisangGoreng + kolak + nasiPadang + esBuah\n",
    "diskon = total *0.05\n",
    "\n",
    "diskon = \"dapat diskon 5%\" if total >=25000 else \"tidak dapat diskon\"\n",
    "print(\"Total belanja RP\", total)\n",
    "\n",
    "print(diskon)\n",
    "total = total - diskon\n",
    "print(\n"
   ]
  },
  {
   "cell_type": "code",
   "execution_count": 3,
   "id": "772857be-2125-4fbe-9143-8a32751acd33",
   "metadata": {},
   "outputs": [
    {
     "name": "stdin",
     "output_type": "stream",
     "text": [
      "Pisang Goreng yang di beli : 1\n",
      "Kolak yang di beli : 1\n",
      "Nasi Padang yang di beli : 1\n",
      "Es Buah yang di beli : 1\n"
     ]
    },
    {
     "name": "stdout",
     "output_type": "stream",
     "text": [
      "------------------\n",
      "Pisang Goreng : 1 = 13000\n",
      "Kolak : 1 = 5000\n",
      "Nasi Padang : 1 = 20000\n",
      "Es Buah : 1 = 10000\n",
      "Total yang di beli = 48000\n",
      "Diskon yang didapat: 5 %\n",
      "Total yang harus dibayarkan : 45600.0\n"
     ]
    }
   ],
   "source": [
    "pisangGoreng = int(input(\"Pisang Goreng yang di beli :\"))\n",
    "kolak = int(input(\"Kolak yang di beli :\"))\n",
    "nasiPadang = int(input(\"Nasi Padang yang di beli :\"))\n",
    "esBuah = int(input(\"Es Buah yang di beli :\"))\n",
    "\n",
    "print(\"------------------\")\n",
    "print(\"Pisang Goreng :\", pisangGoreng, \"=\", pisangGoreng * 13000)\n",
    "print(\"Kolak :\", kolak, \"=\", kolak * 5000)\n",
    "print(\"Nasi Padang :\", nasiPadang, \"=\", nasiPadang * 20000)\n",
    "print(\"Es Buah :\", esBuah, \"=\", esBuah * 10000)\n",
    "\n",
    "total = (pisangGoreng * 13000) + (kolak * 5000) + (nasiPadang * 20000) + (esBuah * 10000)\n",
    "print(\"Total yang di beli =\", total)\n",
    "diskon = 5 if total > 25000 else 0\n",
    "totalBayar = total - (total * (diskon/100))\n",
    "print(\"Diskon yang didapat:\", diskon, \"%\")\n",
    "print(\"Total yang harus dibayarkan :\", totalBayar)\n"
   ]
  },
  {
   "cell_type": "code",
   "execution_count": null,
   "id": "43d39fed-8298-4b7c-b5fc-0b523512e21c",
   "metadata": {},
   "outputs": [],
   "source": []
  }
 ],
 "metadata": {
  "kernelspec": {
   "display_name": "Python [conda env:base] *",
   "language": "python",
   "name": "conda-base-py"
  },
  "language_info": {
   "codemirror_mode": {
    "name": "ipython",
    "version": 3
   },
   "file_extension": ".py",
   "mimetype": "text/x-python",
   "name": "python",
   "nbconvert_exporter": "python",
   "pygments_lexer": "ipython3",
   "version": "3.12.7"
  }
 },
 "nbformat": 4,
 "nbformat_minor": 5
}
