{
 "cells": [
  {
   "cell_type": "code",
   "execution_count": 9,
   "id": "3e5180c6-3821-4ff2-a019-c0befdced497",
   "metadata": {},
   "outputs": [
    {
     "name": "stdout",
     "output_type": "stream",
     "text": [
      "Nama : Galih\n",
      "Umur : 20\n",
      "Alamat : Jl. Cibolang\n",
      "Nilai Pemrograman : 80.5\n",
      "Status Menikah : False\n"
     ]
    }
   ],
   "source": [
    "name = \"Galih\"\n",
    "age = 20\n",
    "address, province = \"Jl. Cibolang\",\"7413412\"\n",
    "scorePython = 80.5\n",
    "isMarried = False\n",
    "\n",
    "print(\"Nama :\",name)\n",
    "print(\"Umur :\",age)\n",
    "print(\"Alamat :\",address)\n",
    "print(\"Nilai Pemrograman :\",scorePython)\n",
    "print(\"Status Menikah :\", isMarried)\n"
   ]
  },
  {
   "cell_type": "code",
   "execution_count": 7,
   "id": "f85996ec-6f39-4d6b-aa42-e3e25a9f9b9e",
   "metadata": {},
   "outputs": [
    {
     "name": "stdout",
     "output_type": "stream",
     "text": [
      "Tipe Data <name> <class 'str'>\n",
      "Tipe Data <age> <class 'int'>\n",
      "Tipe Data <address> <class 'str'>\n",
      "Tipe Data <province> <class 'str'>\n",
      "Tipe Data <scorePython> <class 'float'>\n",
      "Tipe Data <isMarried> <class 'bool'>\n"
     ]
    }
   ],
   "source": [
    "print(\"Tipe Data <name>\",type(name))\n",
    "print(\"Tipe Data <age>\",type(age))\n",
    "print(\"Tipe Data <address>\",type(address))\n",
    "print(\"Tipe Data <province>\",type(province))\n",
    "print(\"Tipe Data <scorePython>\",type(scorePython))\n",
    "print(\"Tipe Data <isMarried>\",type(isMarried))"
   ]
  },
  {
   "cell_type": "code",
   "execution_count": 27,
   "id": "ab1ca2dd-dd1a-48b8-bd61-f7fd987d5cc3",
   "metadata": {},
   "outputs": [
    {
     "name": "stdout",
     "output_type": "stream",
     "text": [
      "7413412-7413412.0-True\n",
      "7413412-7413412.0-True\n",
      "20-20-True\n",
      "False-0-0.0\n"
     ]
    }
   ],
   "source": [
    "#casting atau konversi Tipe Data\n",
    "#Konversi dari String ke (int, float,bool)\n",
    "strToInt = int(province)\n",
    "strToFloat = float(province)\n",
    "strToBool = bool(province)\n",
    "print(strToInt,strToFloat,strToBool, sep=\"-\")\n",
    "\n",
    "#Konversi dari int ke (str, float, bool)\n",
    "intToStr = str(province)\n",
    "intToFloat = float(province)\n",
    "intToBool = bool(province)\n",
    "print(intToStr,intToFloat,intToBool, sep=\"-\")\n",
    "\n",
    "#Konversi dari float ke (sttr, int, bool)\n",
    "floatToStr = str(age)\n",
    "floatToInt = int(age)\n",
    "floatToBool = bool(age)\n",
    "print(floatToStr, floatToInt,floatToBool, sep=\"-\")\n",
    "\n",
    "#Konversi dari bool ke(str, int, float)\n",
    "boolToStr = str(isMarried)\n",
    "boolToInt = int(isMarried)\n",
    "boolToFloat = float(isMarried)\n",
    "print(boolToStr, boolToInt, boolToFloat, sep=\"-\")\n",
    "\n",
    "\n",
    "\n",
    "\n"
   ]
  },
  {
   "cell_type": "code",
   "execution_count": 31,
   "id": "74b755e5-497d-42c0-ab67-54c127d76092",
   "metadata": {},
   "outputs": [
    {
     "name": "stdout",
     "output_type": "stream",
     "text": [
      "B\n",
      "g\n"
     ]
    }
   ],
   "source": [
    "city = \"Bandung\"\n",
    "lencity =len(city)\n",
    "print(city[0])\n",
    "print(city[lencity-1])"
   ]
  },
  {
   "cell_type": "code",
   "execution_count": 37,
   "id": "2f65bb62-0e89-45b6-8544-3e1dcbd7a29c",
   "metadata": {},
   "outputs": [
    {
     "name": "stdout",
     "output_type": "stream",
     "text": [
      "Nilai Desimal : 200\n",
      "Nilai Desimal dari 0xff : 255\n",
      "Nilai Desimal dari 0b1010 : 10\n",
      "Nilai Desimal dari 0o377 : 255\n",
      "==================\n",
      "Nilai Biner dari : 200 0b11001000\n",
      "Nilai Octal dari : 200 0o310\n",
      "Nilai Hexa dari : 200 0xc8\n"
     ]
    }
   ],
   "source": [
    "desimal = 200\n",
    "hexa = 0xff\n",
    "biner = 0b1010\n",
    "octal = 0o377\n",
    "\n",
    "print(\"Nilai Desimal :\",desimal)\n",
    "print(\"Nilai Desimal dari 0xff :\",hexa)\n",
    "print(\"Nilai Desimal dari 0b1010 :\",biner)\n",
    "print(\"Nilai Desimal dari 0o377 :\",octal)\n",
    "\n",
    "print(\"==================\")\n",
    "\n",
    "print(\"Nilai Biner dari :\",desimal,bin(desimal))\n",
    "print(\"Nilai Octal dari :\",desimal,oct(desimal))\n",
    "print(\"Nilai Hexa dari :\",desimal,hex(desimal))\n"
   ]
  },
  {
   "cell_type": "code",
   "execution_count": 82,
   "id": "29f7f884-df71-4e82-870e-dc0d606ecdef",
   "metadata": {},
   "outputs": [
    {
     "name": "stdout",
     "output_type": "stream",
     "text": [
      "['Sukabumi', 'Bandung', 'Bogor', 'Jakarta']\n",
      "Sukabumi\n",
      "Jakarta\n",
      "['Sukabumi', 'Bandung', 'Shizuoka', 'Jakarta']\n",
      "J\n",
      "('Andi', 'Budi', 'Caca')\n",
      "{'name': 'Galih', 'address': {'street': 'Cibolang', 'number': 12345, 'province': 'West Java'}, 'age': 19, 'isMarried': False}\n",
      "West Java\n",
      "{'name': 'Budi', 'address': {'street': 'Cibolang', 'number': 54321, 'province': 'West Java'}, 'hobbies': ['Basket', 'Football'], 'age': 25, 'isMarried': False}\n",
      "Football\n",
      "19\n"
     ]
    }
   ],
   "source": [
    "#Tipe Data Colletion\n",
    "\n",
    "cities = [\"Sukabumi\",\"Bandung\",\"Bogor\",\"Jakarta\"]\n",
    "print(cities)\n",
    "print(cities[0])\n",
    "print(cities[len(cities)-1])\n",
    "cities[2] = \"Shizuoka\"\n",
    "print(cities)\n",
    "print(cities[len(cities)-1][0])\n",
    "\n",
    "#Tuple\n",
    "names = (\"Andi\",\"Budi\",\"Caca\")\n",
    "print(names)\n",
    "#names[0] = \"Rudi\" akan menyebabkan eror karna tuple imutable(tidak dapat berubah)\n",
    "\n",
    "studentData = {\n",
    "    \"name\" : \"Galih\",\n",
    "    \"address\" : {\n",
    "        \"street\" : \"Cibolang\",\n",
    "        \"number\" : 12345,\n",
    "        \"province\" : \"West Java\"\n",
    "    },\n",
    "    \"age\" : 19,\n",
    "    \"isMarried\" : False\n",
    "}\n",
    "\n",
    "#List of Dictionary \n",
    "ListStudent = [\n",
    "    {\n",
    "        \"name\" : \"Galih\",\n",
    "        \"address\" : {\n",
    "            \"street\" : \"Cibolang\",\n",
    "            \"number\" : 12345,\n",
    "            \"province\" : \"West Java\"\n",
    "        },\n",
    "        \"hobbies\" : [\"Read Novel\",\"Football\"],\n",
    "        \"age\" : 19,\n",
    "        \"isMarried\" : False\n",
    "    },    {\n",
    "        \"name\" : \"Budi\",\n",
    "        \"address\" : {\n",
    "            \"street\" : \"Cibolang\",\n",
    "            \"number\" : 54321,\n",
    "            \"province\" : \"West Java\"\n",
    "        },\n",
    "        \"hobbies\" : [\"Basket\",\"Football\"],\n",
    "        \"age\" : 25,\n",
    "        \"isMarried\" : False\n",
    "    },\n",
    "    \n",
    "] \n",
    "print(studentData)\n",
    "print(studentData[\"address\"][\"province\"]) #West Java\n",
    "print(ListStudent[1])\n",
    "print(ListStudent[0][\"hobbies\"][1]) #hobi Galih urutan ke 2\n",
    "print(ListStudent[0][\"age\"]) #umur Galih 19"
   ]
  },
  {
   "cell_type": "code",
   "execution_count": null,
   "id": "e4bb143b-76f8-4135-b907-5a7170546de9",
   "metadata": {},
   "outputs": [],
   "source": []
  }
 ],
 "metadata": {
  "kernelspec": {
   "display_name": "Python [conda env:base] *",
   "language": "python",
   "name": "conda-base-py"
  },
  "language_info": {
   "codemirror_mode": {
    "name": "ipython",
    "version": 3
   },
   "file_extension": ".py",
   "mimetype": "text/x-python",
   "name": "python",
   "nbconvert_exporter": "python",
   "pygments_lexer": "ipython3",
   "version": "3.12.7"
  }
 },
 "nbformat": 4,
 "nbformat_minor": 5
}
