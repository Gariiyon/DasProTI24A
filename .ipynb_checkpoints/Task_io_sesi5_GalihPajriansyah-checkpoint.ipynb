{
 "cells": [
  {
   "cell_type": "markdown",
   "id": "b6ff1757-4a75-4069-a81d-b936b3c472bd",
   "metadata": {},
   "source": [
    "<h1>1. </h1>"
   ]
  },
  {
   "cell_type": "code",
   "execution_count": 4,
   "id": "a4461fe3-0626-40b0-b417-abad003469a4",
   "metadata": {},
   "outputs": [
    {
     "name": "stdin",
     "output_type": "stream",
     "text": [
      "Silahkan Isikan Nama Anda Galih\n",
      "Silahkan Isikan Umur Anda 19\n",
      "Silahkan Isikan Alamat Anda Sukabumi\n",
      "Silahkan Isikan Hobi Anda Baca Komik\n"
     ]
    },
    {
     "name": "stdout",
     "output_type": "stream",
     "text": [
      "---------BIODATA---------\n",
      "Nama : Galih\n",
      "Umur : 19\n",
      "Alamat : Sukabumi\n",
      "Hobi : Baca Komik\n"
     ]
    }
   ],
   "source": [
    "nama = input(\"Silahkan Isikan Nama Anda\")\n",
    "umur = input(\"Silahkan Isikan Umur Anda\")\n",
    "alamat = input(\"Silahkan Isikan Alamat Anda\")\n",
    "hobi = input(\"Silahkan Isikan Hobi Anda\")\n",
    "\n",
    "print(\"---------BIODATA---------\")\n",
    "print(\"Nama : {}\".format(nama))\n",
    "print(\"Umur : {}\".format(umur))\n",
    "print(\"Alamat : {}\".format(alamat))\n",
    "print(\"Hobi : {}\".format(hobi))"
   ]
  },
  {
   "cell_type": "markdown",
   "id": "0c7de0cf-4818-493a-8603-977b604bfe2e",
   "metadata": {},
   "source": [
    "<h1>2.</h1>"
   ]
  },
  {
   "cell_type": "code",
   "execution_count": 93,
   "id": "94b4d418-dbe3-4d3e-9bb0-b275a11e4e87",
   "metadata": {},
   "outputs": [
    {
     "name": "stdout",
     "output_type": "stream",
     "text": [
      "putra nusa\n",
      "NIVERSITAS NSA PTRA SKABMI\n",
      "SUKABUMI PUTRA NUSA UNIVERSITAS\n",
      "UNPS\n",
      "TAS SAPU BUMI\n"
     ]
    }
   ],
   "source": [
    "kalimat = \"UNIVERSITAS NUSA PUTRA SUKABUMI\"\n",
    "\n",
    "menampilkan = kalimat.split()\n",
    "hasil = f\"{menampilkan[2].lower()} {menampilkan[1].lower()}\"\n",
    "print(hasil)\n",
    "\n",
    "hasil = ' '.join([menampilkan.replace('U', '') for menampilkan in kalimat.split()])\n",
    "print(hasil)\n",
    "\n",
    "hasil = ' '.join(menampilkan[::-1])\n",
    "print(hasil)\n",
    "\n",
    "hasil = ''.join([menampilkan[0] for menampilkan in kalimat.split()])\n",
    "print(hasil)\n",
    "\n",
    "tas = menampilkan[0][8:11]\n",
    "sa = menampilkan[1][2:4]\n",
    "pu = menampilkan[2][0:2]\n",
    "bumi = menampilkan[3][4:8]\n",
    "hasil = tas + \" \" + sa + pu + \" \" + bumi\n",
    "print(hasil)\n"
   ]
  },
  {
   "cell_type": "code",
   "execution_count": null,
   "id": "a599692e-c30e-4e2d-8e87-916f98e923e1",
   "metadata": {},
   "outputs": [],
   "source": []
  }
 ],
 "metadata": {
  "kernelspec": {
   "display_name": "Python [conda env:base] *",
   "language": "python",
   "name": "conda-base-py"
  },
  "language_info": {
   "codemirror_mode": {
    "name": "ipython",
    "version": 3
   },
   "file_extension": ".py",
   "mimetype": "text/x-python",
   "name": "python",
   "nbconvert_exporter": "python",
   "pygments_lexer": "ipython3",
   "version": "3.12.7"
  }
 },
 "nbformat": 4,
 "nbformat_minor": 5
}
