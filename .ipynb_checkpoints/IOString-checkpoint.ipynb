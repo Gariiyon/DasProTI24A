{
 "cells": [
  {
   "cell_type": "markdown",
   "id": "cd98b8ec-a602-4b32-a103-5efb48822858",
   "metadata": {},
   "source": [
    "<h1></h1>"
   ]
  },
  {
   "cell_type": "code",
   "execution_count": 5,
   "id": "fd406a47-f2f0-44df-af83-31a96321a521",
   "metadata": {},
   "outputs": [
    {
     "name": "stdin",
     "output_type": "stream",
     "text": [
      "Isikan nama Anda Galih\n"
     ]
    },
    {
     "name": "stdout",
     "output_type": "stream",
     "text": [
      "Selamat Datang Galih\n"
     ]
    }
   ],
   "source": [
    "name = input(\"Isikan nama Anda\")\n",
    "print(\"Selamat Datang\",name) #menggabungkan variabel dengan string\n",
    "\n",
    "print(\"1\",end='')#mencetak disammping karakter\n",
    "print(\"2\",end='')\n",
    "print(\"3\")\n",
    "\n",
    "#separator\n",
    "print(\"Andi\",\"Budi\",\"Rudi\",sep=\"@\")\n",
    "      "
   ]
  },
  {
   "cell_type": "markdown",
   "id": "cf1871fa-46f1-496a-a06e-83d51941b345",
   "metadata": {},
   "source": [
    "<h1>String Format</h1>"
   ]
  },
  {
   "cell_type": "code",
   "execution_count": 24,
   "id": "0448bbd3-90a1-4416-971b-c289c33a6583",
   "metadata": {},
   "outputs": [
    {
     "name": "stdin",
     "output_type": "stream",
     "text": [
      "Isikan Bilangan 1 : 3\n",
      "Isikan Bilangan 2 : 4\n"
     ]
    },
    {
     "name": "stdout",
     "output_type": "stream",
     "text": [
      "Hasil Penjumlahan 3 + 4 = 7\n",
      "Hasil Penjumlahan 3 + 4 = 7\n"
     ]
    }
   ],
   "source": [
    "val1 = int(input(\"Isikan Bilangan 1 :\"))\n",
    "val2 = int(input(\"Isikan Bilangan 2 :\"))\n",
    "\n",
    "#Hasil penjumlahan 3 + 4 = 7\n",
    "print(\"Hasil Penjumlahan\",val1,\"+\",val2,\"=\",val1+val2) \n",
    "#String penjumlahanmenggunakan tanda {}\n",
    "print(\"Hasil Penjumlahan {} + {} = {}\".format(val1,val2,val1+val2))"
   ]
  },
  {
   "cell_type": "markdown",
   "id": "70e21c49-7826-4f8c-b9f3-219529ad268d",
   "metadata": {},
   "source": [
    "<h1>String Format Index</h1>"
   ]
  },
  {
   "cell_type": "code",
   "execution_count": 33,
   "id": "4cac8850-699b-46c6-8c6d-172ea3c57b9c",
   "metadata": {},
   "outputs": [
    {
     "name": "stdin",
     "output_type": "stream",
     "text": [
      "Isikan Nama Depan Galih\n",
      "Isikan Nana Tengah P\n",
      "Isikan Nama Belakang a\n"
     ]
    },
    {
     "name": "stdout",
     "output_type": "stream",
     "text": [
      "Nama Anda :Galih P a\n",
      "Nama Anda : P Galih a\n",
      "Nama Anda : Galih P a\n"
     ]
    }
   ],
   "source": [
    "fName = input(\"Isikan Nama Depan\")\n",
    "mName = input(\"Isikan Nana Tengah\")\n",
    "lName = input(\"Isikan Nama Belakang\")\n",
    "\n",
    "print(\"Nama Anda :{} {} {}\".format(fName,mName,lName))\n",
    "#menggunakan index\n",
    "print(\"Nama Anda : {1} {0} {2}\".format(fName,mName,lName))\n",
    "#menggunakan key\n",
    "print(\"Nama Anda : {depan} {tengah} {belakang}\".format(depan=fName,tengah=mName,belakang=lName))"
   ]
  },
  {
   "cell_type": "markdown",
   "id": "12dcdcd8-157d-4be4-b7c3-c81e8690e4f3",
   "metadata": {},
   "source": [
    "<h3>slicing</h3><br>\n",
    "mengambil string/karakter dari string berdasarkan indexs\n"
   ]
  },
  {
   "cell_type": "code",
   "execution_count": null,
   "id": "871fa9b1-ecbb-4a62-bf29-0538aaf972ca",
   "metadata": {},
   "outputs": [],
   "source": [
    "university = input(\"Isikan Nama Universitas Anda\")\n",
    "#mencetak karakter pertama\n",
    "print(university[0])\n",
    "#mencetak karakter petama sampai kelima\n",
    "print(university[0:5])\n",
    "#mencetak karakter paling akhir\n",
    "print(university[-1])\n",
    "#mencetak karakter kedua sampai selesai\n",
    "print(university[1:])\n"
   ]
  },
  {
   "cell_type": "markdown",
   "id": "496558d2-87f8-4043-831a-397893dbb265",
   "metadata": {},
   "source": [
    "<h2>Fungsi String</h2>"
   ]
  },
  {
   "cell_type": "code",
   "execution_count": 55,
   "id": "96537a89-895f-4fac-9eb1-68d516cc1c58",
   "metadata": {},
   "outputs": [
    {
     "name": "stdin",
     "output_type": "stream",
     "text": [
      "Isikan Nama Lengkap 3 4 5 6\n"
     ]
    },
    {
     "name": "stdout",
     "output_type": "stream",
     "text": [
      "Nama Depan 3\n",
      "Nama Tengah 4\n",
      "Nama Belakang 5\n",
      "Nama Anda Adalah 3 4 5 6\n",
      "0\n"
     ]
    },
    {
     "name": "stdin",
     "output_type": "stream",
     "text": [
      "Masukan Email Anda : 3\n"
     ]
    },
    {
     "name": "stdout",
     "output_type": "stream",
     "text": [
      "Email tersebut adalah : Tidak valid\n"
     ]
    }
   ],
   "source": [
    "fullName = input(\"Isikan Nama Lengkap\")\n",
    "#split - untuk meisahkan string berdasarkan karakter tertentu\n",
    "name = fullName.split(' ')\n",
    "print(\"Nama Depan\",name[0])\n",
    "print(\"Nama Tengah\",name[1])\n",
    "print(\"Nama Belakang\",name[2])\n",
    "\n",
    "#print fstring\n",
    "print(f\"Nama Anda Adalah {fullName}\") #sering digunakan\n",
    "\n",
    "#find untuk mencari karakter dalam string\n",
    "#jika ditemukanakan mengembalikn posisi indeks\n",
    "#jika tidak ditemukan akan mengembalikan nilai -1\n",
    "platMobil = \"N7865BB\"\n",
    "print(platMobil.find(\"N\"))\n",
    "\n",
    "#Buatlah program untuk mengecek email valid atau tidak(Operator Ternary)\n",
    "#syaratnya Email harus mempunyai tanda \"@\" dam \".\"\n",
    "#posisi \"@\" selalu didepan tanda \".\">.<\n",
    "\n"
   ]
  },
  {
   "cell_type": "code",
   "execution_count": 65,
   "id": "11d970a1-56a5-47b5-aa15-261415acc927",
   "metadata": {},
   "outputs": [
    {
     "name": "stdin",
     "output_type": "stream",
     "text": [
      "Masukan Email Anda : galih@gmail.com\n"
     ]
    },
    {
     "name": "stdout",
     "output_type": "stream",
     "text": [
      "Posisi '@' : 5\n",
      "Posisi '.' : 11\n",
      "Email Valid =\n"
     ]
    }
   ],
   "source": [
    "email = input(\"Masukan Email Anda :\")\n",
    "cek1 = email.find(\"@\")\n",
    "cek2 = email.find(\".\")\n",
    "print(\"Posisi '@' :\", cek1)\n",
    "print(\"Posisi '.' :\", cek2)\n",
    "cekValid = \"Email Valid \" if cek1 > -1 and cek2 > -1 and cek1 < cek2 else \"Tidak Valid\"\n",
    "print(cekValid)"
   ]
  },
  {
   "cell_type": "markdown",
   "id": "c7f58d3e-4da1-43e4-920e-613835ffa583",
   "metadata": {},
   "source": [
    "<h1>Random</h1>"
   ]
  },
  {
   "cell_type": "code",
   "execution_count": 107,
   "id": "7bc84838-4fbc-49a0-ba0d-7f3e1cb03919",
   "metadata": {},
   "outputs": [
    {
     "name": "stdout",
     "output_type": "stream",
     "text": [
      "Hasil dari Nilai Anda adalah : 0.9560138196095433\n",
      "Hasil dari Nilai acak bulat adalah 17\n",
      "Hasil dari acak Bulan adalah mar\n",
      "Hasil dari acak Bulan adalah ['Thu', 4]\n",
      "Berapakah 60 + 93 :\n"
     ]
    },
    {
     "name": "stdin",
     "output_type": "stream",
     "text": [
      "Isikan Hasilnya : 153\n"
     ]
    },
    {
     "name": "stdout",
     "output_type": "stream",
     "text": [
      "Anda Benar\n"
     ]
    }
   ],
   "source": [
    "from random import random\n",
    "nilai = random()\n",
    "print(f\"Hasil dari Nilai Anda adalah : {nilai}\")\n",
    "\n",
    "from random import randint\n",
    "nilaiInt = randint(0,100)\n",
    "print(f\"Hasil dari Nilai acak bulat adalah {nilaiInt}\")\n",
    "\n",
    "from random import choice\n",
    "month = [\"jan\",\"feb\",\"mar\",\"apr\",\"mei\",\"jun\",\"jul\",\"agu\",\"sep\",\"okt\",\"des\"]\n",
    "day = [[\"Mon\",1],[\"Tue\",2],[\"Wed\",3],[\"Thu\",4],[\"Fri\",5],[\"Sat\",6],[\"Sun\",7]]\n",
    "\n",
    "sMonth = choice(month)\n",
    "sDay = choice(day)\n",
    "print(f\"Hasil dari acak Bulan adalah {sMonth}\")\n",
    "print(f\"Hasil dari acak Bulan adalah {sDay}\")\n",
    "\n",
    "nilai1 = randint(0,100)\n",
    "nilai2 = randint(0,100)\n",
    "operator = [\"+\",\"-\",\"*\",\"/\"]\n",
    "sOperator = choice(operator)\n",
    "print(f\"Berapakah {nilai1} {sOperator} {nilai2} :\")\n",
    "jawab = int(input(\"Isikan Hasilnya :\"))\n",
    "\n",
    "if sOperator == \"+\":\n",
    "    cekJawab = \"Anda Benar\" if jawab == nilai1 + nilai2 else \"Anda Salah !!! Coba Lagi\"\n",
    "elif sOperator == \"-\":\n",
    "    cekJawab = \"Anda Benar\" if jawab == nilai1 - nilai2 else \"Anda Salah !!! Coba Lagi\"\n",
    "elif sOperator == \"*\":\n",
    "    cekJawab = \"Anda Benar\" if jawab == nilai1 * nilai2 else \"Anda Salah !!! Coba Lagi\"\n",
    "elif sOperator == \"/\":\n",
    "    cekJawab = \"Anda Benar\" if jawab == nilai1 // nilai2 else \"Anda Salah !!! Coba Lagi\"\n",
    "print(cekJawab)"
   ]
  },
  {
   "cell_type": "code",
   "execution_count": 123,
   "id": "55343430-ca87-4e6c-b37b-7b3ebd8ecd08",
   "metadata": {},
   "outputs": [
    {
     "name": "stdin",
     "output_type": "stream",
     "text": [
      "ENG->IND (1) , IND->ENG (2) 1\n"
     ]
    },
    {
     "name": "stdout",
     "output_type": "stream",
     "text": [
      "Apa arti dari snore?\n"
     ]
    },
    {
     "name": "stdin",
     "output_type": "stream",
     "text": [
      "Isikan Jawaban : mendengkur\n"
     ]
    },
    {
     "name": "stdout",
     "output_type": "stream",
     "text": [
      "Anda benar\n"
     ]
    }
   ],
   "source": [
    "from random import choice\n",
    "kamus = [[\"membaca\",\"reading\"],[\"menulis\",\"writing\"],[\"bersepeda\",\"beer bike\"],[\"memanjat\",\"climbing\"],[\"melompat\",\"jumping\"],[\"mendengkur\",\"snore\"],[\"berbicara\",\"speaking\"],[\"berpuasa\",\"fast\"],[\"beribadah\",\"praying\"],[\"terlena\",\"complacement\"]]\n",
    "sKamus = choice(kamus)\n",
    "pilihan = int(input(\"ENG->IND (1) , IND->ENG (2)\")) \n",
    "if pilihan ==1:\n",
    "    print(f\"Apa arti dari {sKamus[1]}?\")\n",
    "    jawab = input(\"Isikan Jawaban :\")\n",
    "    cekTranslate = \"Anda benar\" if jawab.lower() == sKamus[0] else \"Anda Salah!!\"\n",
    "elif pilihan ==2:\n",
    "    print(f\"Apa bahasa Inggris dari {sKamus[0]}?\")\n",
    "    cekTranslate = \"Anda benar\" if jawab.lower() == sKamus[1] else \"Anda Salah!!\"\n",
    "\n",
    "print(cekTranslate)"
   ]
  },
  {
   "cell_type": "code",
   "execution_count": null,
   "id": "05cc832f-10e3-4aa6-93f1-d49c98a8c8f7",
   "metadata": {},
   "outputs": [],
   "source": []
  }
 ],
 "metadata": {
  "kernelspec": {
   "display_name": "Python [conda env:base] *",
   "language": "python",
   "name": "conda-base-py"
  },
  "language_info": {
   "codemirror_mode": {
    "name": "ipython",
    "version": 3
   },
   "file_extension": ".py",
   "mimetype": "text/x-python",
   "name": "python",
   "nbconvert_exporter": "python",
   "pygments_lexer": "ipython3",
   "version": "3.12.7"
  }
 },
 "nbformat": 4,
 "nbformat_minor": 5
}
