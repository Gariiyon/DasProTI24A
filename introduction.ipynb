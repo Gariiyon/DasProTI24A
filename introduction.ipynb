{
 "cells": [
  {
   "cell_type": "markdown",
   "id": "d33653d8-2d16-4733-bcc3-18525d7d4d3c",
   "metadata": {},
   "source": [
    "<img src=\"https://1000logos.net/wp-content/uploads/2020/08/Python-Logo.png\" width=\"500\">"
   ]
  },
  {
   "cell_type": "markdown",
   "id": "19198065-7a06-4d08-9210-a6deb671caf4",
   "metadata": {},
   "source": [
    "<center><img src=\"https://1000logos.net/wp-content/uploads/2020/08/Python-Logo.png\" width=\"500\"></center><br>\n",
    "Tutorial Jupiter Noteboook<br>\n",
    "<center><b><h1>Tutorial Jupiter Notebook</h1></b></centerr>\n",
    "Tempat menuliskan kode disebut sebagai <b>cell</b></br>\n",
    "<ol>\n",
    "    <li>Code - Y</li>\n",
    "    <li>Markdown - M</li>\n",
    "</ol>\n",
    "<hr>\n",
    "Cara menjalankan cell<br>\n",
    "<table>\n",
    "    <tr>\n",
    "        <td>Command</td>\n",
    "        <td>Keterangan</td>\n",
    "    </tr>\n",
    "    <tr>\n",
    "        <td>ctrl + enter</td>\n",
    "        <td>Running dan fokus di cell aktif</td>\n",
    "        <tr>\n",
    "            <td>shift + enter</td>\n",
    "            <td>Running dan fokus di cell berikutnya</td>\n",
    "        </tr>\n",
    "            <td>B</td>\n",
    "    \n",
    "            <td>Buka cell baru dibawah</td>\n",
    "</table>\n"
   ]
  },
  {
   "cell_type": "markdown",
   "id": "5cdda330-8b4c-4a27-966c-144a2a6c60bd",
   "metadata": {},
   "source": [
    "Menambahkan cell ada 2 cara\n",
    "<ul>\n",
    "    <li>Tekan A -> Above</li>\n",
    "    <li>Tekan B -> Below</li>\n",
    "</ul>\n",
    "Cara membuat output di python adalah  <br>\n",
    "```print(teks yang akan di print)```\n",
    "\n"
   ]
  },
  {
   "cell_type": "code",
   "execution_count": null,
   "id": "9416e791-dd86-4a69-bc50-a7c740e98c26",
   "metadata": {},
   "outputs": [],
   "source": []
  },
  {
   "cell_type": "code",
   "execution_count": 53,
   "id": "022be5e2-047d-4fac-af82-5f3b94d04f00",
   "metadata": {},
   "outputs": [
    {
     "name": "stdout",
     "output_type": "stream",
     "text": [
      "Selamat belajar Python\n"
     ]
    }
   ],
   "source": [
    "#Cetak tulisan selamat belajar Python\n",
    "print (\"Selamat belajar Python\")\n",
    "data = \"selamat belajar variabel\"\n"
   ]
  },
  {
   "cell_type": "code",
   "execution_count": 61,
   "id": "1dee4f68-5b49-4dba-a0c1-995318910068",
   "metadata": {},
   "outputs": [
    {
     "name": "stdout",
     "output_type": "stream",
     "text": [
      "selamat belajar variabel\n"
     ]
    },
    {
     "data": {
      "text/plain": [
       "28"
      ]
     },
     "execution_count": 61,
     "metadata": {},
     "output_type": "execute_result"
    }
   ],
   "source": [
    "print (data)\n",
    "data\n",
    "3 + 2\n",
    "num1 = 7\n",
    "num2 = 21\n",
    "num1 + num2"
   ]
  }
 ],
 "metadata": {
  "kernelspec": {
   "display_name": "Python [conda env:base] *",
   "language": "python",
   "name": "conda-base-py"
  },
  "language_info": {
   "codemirror_mode": {
    "name": "ipython",
    "version": 3
   },
   "file_extension": ".py",
   "mimetype": "text/x-python",
   "name": "python",
   "nbconvert_exporter": "python",
   "pygments_lexer": "ipython3",
   "version": "3.12.7"
  }
 },
 "nbformat": 4,
 "nbformat_minor": 5
}
